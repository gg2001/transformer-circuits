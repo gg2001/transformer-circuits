{
 "cells": [
  {
   "cell_type": "code",
   "execution_count": 1,
   "metadata": {},
   "outputs": [
    {
     "name": "stdout",
     "output_type": "stream",
     "text": [
      "Requirement already satisfied: transformer_lens in /Users/gge/gg2001/transformer-circuits/.conda/lib/python3.11/site-packages (2.4.0)\n",
      "Requirement already satisfied: plotly in /Users/gge/gg2001/transformer-circuits/.conda/lib/python3.11/site-packages (5.24.0)\n",
      "Requirement already satisfied: nbformat in /Users/gge/gg2001/transformer-circuits/.conda/lib/python3.11/site-packages (5.10.4)\n",
      "Requirement already satisfied: accelerate>=0.23.0 in /Users/gge/gg2001/transformer-circuits/.conda/lib/python3.11/site-packages (from transformer_lens) (0.33.0)\n",
      "Requirement already satisfied: beartype<0.15.0,>=0.14.1 in /Users/gge/gg2001/transformer-circuits/.conda/lib/python3.11/site-packages (from transformer_lens) (0.14.1)\n",
      "Requirement already satisfied: better-abc<0.0.4,>=0.0.3 in /Users/gge/gg2001/transformer-circuits/.conda/lib/python3.11/site-packages (from transformer_lens) (0.0.3)\n",
      "Requirement already satisfied: datasets>=2.7.1 in /Users/gge/gg2001/transformer-circuits/.conda/lib/python3.11/site-packages (from transformer_lens) (2.21.0)\n",
      "Requirement already satisfied: einops>=0.6.0 in /Users/gge/gg2001/transformer-circuits/.conda/lib/python3.11/site-packages (from transformer_lens) (0.8.0)\n",
      "Requirement already satisfied: fancy-einsum>=0.0.3 in /Users/gge/gg2001/transformer-circuits/.conda/lib/python3.11/site-packages (from transformer_lens) (0.0.3)\n",
      "Requirement already satisfied: jaxtyping>=0.2.11 in /Users/gge/gg2001/transformer-circuits/.conda/lib/python3.11/site-packages (from transformer_lens) (0.2.33)\n",
      "Requirement already satisfied: numpy>=1.24 in /Users/gge/gg2001/transformer-circuits/.conda/lib/python3.11/site-packages (from transformer_lens) (1.26.4)\n",
      "Requirement already satisfied: pandas>=1.1.5 in /Users/gge/gg2001/transformer-circuits/.conda/lib/python3.11/site-packages (from transformer_lens) (2.2.2)\n",
      "Requirement already satisfied: rich>=12.6.0 in /Users/gge/gg2001/transformer-circuits/.conda/lib/python3.11/site-packages (from transformer_lens) (13.8.0)\n",
      "Requirement already satisfied: sentencepiece in /Users/gge/gg2001/transformer-circuits/.conda/lib/python3.11/site-packages (from transformer_lens) (0.2.0)\n",
      "Requirement already satisfied: torch!=2.0,!=2.1.0,>=1.10 in /Users/gge/gg2001/transformer-circuits/.conda/lib/python3.11/site-packages (from transformer_lens) (2.4.0)\n",
      "Requirement already satisfied: tqdm>=4.64.1 in /Users/gge/gg2001/transformer-circuits/.conda/lib/python3.11/site-packages (from transformer_lens) (4.66.5)\n",
      "Requirement already satisfied: transformers>=4.37.2 in /Users/gge/gg2001/transformer-circuits/.conda/lib/python3.11/site-packages (from transformer_lens) (4.44.2)\n",
      "Requirement already satisfied: typing-extensions in /Users/gge/gg2001/transformer-circuits/.conda/lib/python3.11/site-packages (from transformer_lens) (4.12.2)\n",
      "Requirement already satisfied: wandb>=0.13.5 in /Users/gge/gg2001/transformer-circuits/.conda/lib/python3.11/site-packages (from transformer_lens) (0.17.7)\n",
      "Requirement already satisfied: tenacity>=6.2.0 in /Users/gge/gg2001/transformer-circuits/.conda/lib/python3.11/site-packages (from plotly) (9.0.0)\n",
      "Requirement already satisfied: packaging in /Users/gge/gg2001/transformer-circuits/.conda/lib/python3.11/site-packages (from plotly) (24.1)\n",
      "Requirement already satisfied: fastjsonschema>=2.15 in /Users/gge/gg2001/transformer-circuits/.conda/lib/python3.11/site-packages (from nbformat) (2.20.0)\n",
      "Requirement already satisfied: jsonschema>=2.6 in /Users/gge/gg2001/transformer-circuits/.conda/lib/python3.11/site-packages (from nbformat) (4.23.0)\n",
      "Requirement already satisfied: jupyter-core!=5.0.*,>=4.12 in /Users/gge/gg2001/transformer-circuits/.conda/lib/python3.11/site-packages (from nbformat) (5.7.2)\n",
      "Requirement already satisfied: traitlets>=5.1 in /Users/gge/gg2001/transformer-circuits/.conda/lib/python3.11/site-packages (from nbformat) (5.14.3)\n",
      "Requirement already satisfied: psutil in /Users/gge/gg2001/transformer-circuits/.conda/lib/python3.11/site-packages (from accelerate>=0.23.0->transformer_lens) (6.0.0)\n",
      "Requirement already satisfied: pyyaml in /Users/gge/gg2001/transformer-circuits/.conda/lib/python3.11/site-packages (from accelerate>=0.23.0->transformer_lens) (6.0.2)\n",
      "Requirement already satisfied: huggingface-hub>=0.21.0 in /Users/gge/gg2001/transformer-circuits/.conda/lib/python3.11/site-packages (from accelerate>=0.23.0->transformer_lens) (0.24.6)\n",
      "Requirement already satisfied: safetensors>=0.3.1 in /Users/gge/gg2001/transformer-circuits/.conda/lib/python3.11/site-packages (from accelerate>=0.23.0->transformer_lens) (0.4.4)\n",
      "Requirement already satisfied: filelock in /Users/gge/gg2001/transformer-circuits/.conda/lib/python3.11/site-packages (from datasets>=2.7.1->transformer_lens) (3.15.4)\n",
      "Requirement already satisfied: pyarrow>=15.0.0 in /Users/gge/gg2001/transformer-circuits/.conda/lib/python3.11/site-packages (from datasets>=2.7.1->transformer_lens) (17.0.0)\n",
      "Requirement already satisfied: dill<0.3.9,>=0.3.0 in /Users/gge/gg2001/transformer-circuits/.conda/lib/python3.11/site-packages (from datasets>=2.7.1->transformer_lens) (0.3.8)\n",
      "Requirement already satisfied: requests>=2.32.2 in /Users/gge/gg2001/transformer-circuits/.conda/lib/python3.11/site-packages (from datasets>=2.7.1->transformer_lens) (2.32.3)\n",
      "Requirement already satisfied: xxhash in /Users/gge/gg2001/transformer-circuits/.conda/lib/python3.11/site-packages (from datasets>=2.7.1->transformer_lens) (3.5.0)\n",
      "Requirement already satisfied: multiprocess in /Users/gge/gg2001/transformer-circuits/.conda/lib/python3.11/site-packages (from datasets>=2.7.1->transformer_lens) (0.70.16)\n",
      "Requirement already satisfied: fsspec<=2024.6.1,>=2023.1.0 in /Users/gge/gg2001/transformer-circuits/.conda/lib/python3.11/site-packages (from fsspec[http]<=2024.6.1,>=2023.1.0->datasets>=2.7.1->transformer_lens) (2024.6.1)\n",
      "Requirement already satisfied: aiohttp in /Users/gge/gg2001/transformer-circuits/.conda/lib/python3.11/site-packages (from datasets>=2.7.1->transformer_lens) (3.10.5)\n",
      "Requirement already satisfied: typeguard==2.13.3 in /Users/gge/gg2001/transformer-circuits/.conda/lib/python3.11/site-packages (from jaxtyping>=0.2.11->transformer_lens) (2.13.3)\n",
      "Requirement already satisfied: attrs>=22.2.0 in /Users/gge/gg2001/transformer-circuits/.conda/lib/python3.11/site-packages (from jsonschema>=2.6->nbformat) (24.2.0)\n",
      "Requirement already satisfied: jsonschema-specifications>=2023.03.6 in /Users/gge/gg2001/transformer-circuits/.conda/lib/python3.11/site-packages (from jsonschema>=2.6->nbformat) (2023.12.1)\n",
      "Requirement already satisfied: referencing>=0.28.4 in /Users/gge/gg2001/transformer-circuits/.conda/lib/python3.11/site-packages (from jsonschema>=2.6->nbformat) (0.35.1)\n",
      "Requirement already satisfied: rpds-py>=0.7.1 in /Users/gge/gg2001/transformer-circuits/.conda/lib/python3.11/site-packages (from jsonschema>=2.6->nbformat) (0.20.0)\n",
      "Requirement already satisfied: platformdirs>=2.5 in /Users/gge/gg2001/transformer-circuits/.conda/lib/python3.11/site-packages (from jupyter-core!=5.0.*,>=4.12->nbformat) (4.2.2)\n",
      "Requirement already satisfied: python-dateutil>=2.8.2 in /Users/gge/gg2001/transformer-circuits/.conda/lib/python3.11/site-packages (from pandas>=1.1.5->transformer_lens) (2.9.0)\n",
      "Requirement already satisfied: pytz>=2020.1 in /Users/gge/gg2001/transformer-circuits/.conda/lib/python3.11/site-packages (from pandas>=1.1.5->transformer_lens) (2024.1)\n",
      "Requirement already satisfied: tzdata>=2022.7 in /Users/gge/gg2001/transformer-circuits/.conda/lib/python3.11/site-packages (from pandas>=1.1.5->transformer_lens) (2024.1)\n",
      "Requirement already satisfied: markdown-it-py>=2.2.0 in /Users/gge/gg2001/transformer-circuits/.conda/lib/python3.11/site-packages (from rich>=12.6.0->transformer_lens) (3.0.0)\n",
      "Requirement already satisfied: pygments<3.0.0,>=2.13.0 in /Users/gge/gg2001/transformer-circuits/.conda/lib/python3.11/site-packages (from rich>=12.6.0->transformer_lens) (2.18.0)\n",
      "Requirement already satisfied: sympy in /Users/gge/gg2001/transformer-circuits/.conda/lib/python3.11/site-packages (from torch!=2.0,!=2.1.0,>=1.10->transformer_lens) (1.13.2)\n",
      "Requirement already satisfied: networkx in /Users/gge/gg2001/transformer-circuits/.conda/lib/python3.11/site-packages (from torch!=2.0,!=2.1.0,>=1.10->transformer_lens) (3.3)\n",
      "Requirement already satisfied: jinja2 in /Users/gge/gg2001/transformer-circuits/.conda/lib/python3.11/site-packages (from torch!=2.0,!=2.1.0,>=1.10->transformer_lens) (3.1.4)\n",
      "Requirement already satisfied: regex!=2019.12.17 in /Users/gge/gg2001/transformer-circuits/.conda/lib/python3.11/site-packages (from transformers>=4.37.2->transformer_lens) (2024.7.24)\n",
      "Requirement already satisfied: tokenizers<0.20,>=0.19 in /Users/gge/gg2001/transformer-circuits/.conda/lib/python3.11/site-packages (from transformers>=4.37.2->transformer_lens) (0.19.1)\n",
      "Requirement already satisfied: click!=8.0.0,>=7.1 in /Users/gge/gg2001/transformer-circuits/.conda/lib/python3.11/site-packages (from wandb>=0.13.5->transformer_lens) (8.1.7)\n",
      "Requirement already satisfied: docker-pycreds>=0.4.0 in /Users/gge/gg2001/transformer-circuits/.conda/lib/python3.11/site-packages (from wandb>=0.13.5->transformer_lens) (0.4.0)\n",
      "Requirement already satisfied: gitpython!=3.1.29,>=1.0.0 in /Users/gge/gg2001/transformer-circuits/.conda/lib/python3.11/site-packages (from wandb>=0.13.5->transformer_lens) (3.1.43)\n",
      "Requirement already satisfied: protobuf!=4.21.0,<6,>=3.19.0 in /Users/gge/gg2001/transformer-circuits/.conda/lib/python3.11/site-packages (from wandb>=0.13.5->transformer_lens) (5.27.4)\n",
      "Requirement already satisfied: sentry-sdk>=1.0.0 in /Users/gge/gg2001/transformer-circuits/.conda/lib/python3.11/site-packages (from wandb>=0.13.5->transformer_lens) (2.13.0)\n",
      "Requirement already satisfied: setproctitle in /Users/gge/gg2001/transformer-circuits/.conda/lib/python3.11/site-packages (from wandb>=0.13.5->transformer_lens) (1.3.3)\n",
      "Requirement already satisfied: setuptools in /Users/gge/gg2001/transformer-circuits/.conda/lib/python3.11/site-packages (from wandb>=0.13.5->transformer_lens) (72.2.0)\n",
      "Requirement already satisfied: six>=1.4.0 in /Users/gge/gg2001/transformer-circuits/.conda/lib/python3.11/site-packages (from docker-pycreds>=0.4.0->wandb>=0.13.5->transformer_lens) (1.16.0)\n",
      "Requirement already satisfied: aiohappyeyeballs>=2.3.0 in /Users/gge/gg2001/transformer-circuits/.conda/lib/python3.11/site-packages (from aiohttp->datasets>=2.7.1->transformer_lens) (2.4.0)\n",
      "Requirement already satisfied: aiosignal>=1.1.2 in /Users/gge/gg2001/transformer-circuits/.conda/lib/python3.11/site-packages (from aiohttp->datasets>=2.7.1->transformer_lens) (1.3.1)\n",
      "Requirement already satisfied: frozenlist>=1.1.1 in /Users/gge/gg2001/transformer-circuits/.conda/lib/python3.11/site-packages (from aiohttp->datasets>=2.7.1->transformer_lens) (1.4.1)\n",
      "Requirement already satisfied: multidict<7.0,>=4.5 in /Users/gge/gg2001/transformer-circuits/.conda/lib/python3.11/site-packages (from aiohttp->datasets>=2.7.1->transformer_lens) (6.0.5)\n",
      "Requirement already satisfied: yarl<2.0,>=1.0 in /Users/gge/gg2001/transformer-circuits/.conda/lib/python3.11/site-packages (from aiohttp->datasets>=2.7.1->transformer_lens) (1.9.4)\n",
      "Requirement already satisfied: gitdb<5,>=4.0.1 in /Users/gge/gg2001/transformer-circuits/.conda/lib/python3.11/site-packages (from gitpython!=3.1.29,>=1.0.0->wandb>=0.13.5->transformer_lens) (4.0.11)\n",
      "Requirement already satisfied: mdurl~=0.1 in /Users/gge/gg2001/transformer-circuits/.conda/lib/python3.11/site-packages (from markdown-it-py>=2.2.0->rich>=12.6.0->transformer_lens) (0.1.2)\n",
      "Requirement already satisfied: charset-normalizer<4,>=2 in /Users/gge/gg2001/transformer-circuits/.conda/lib/python3.11/site-packages (from requests>=2.32.2->datasets>=2.7.1->transformer_lens) (3.3.2)\n",
      "Requirement already satisfied: idna<4,>=2.5 in /Users/gge/gg2001/transformer-circuits/.conda/lib/python3.11/site-packages (from requests>=2.32.2->datasets>=2.7.1->transformer_lens) (3.8)\n",
      "Requirement already satisfied: urllib3<3,>=1.21.1 in /Users/gge/gg2001/transformer-circuits/.conda/lib/python3.11/site-packages (from requests>=2.32.2->datasets>=2.7.1->transformer_lens) (2.2.2)\n",
      "Requirement already satisfied: certifi>=2017.4.17 in /Users/gge/gg2001/transformer-circuits/.conda/lib/python3.11/site-packages (from requests>=2.32.2->datasets>=2.7.1->transformer_lens) (2024.7.4)\n",
      "Requirement already satisfied: MarkupSafe>=2.0 in /Users/gge/gg2001/transformer-circuits/.conda/lib/python3.11/site-packages (from jinja2->torch!=2.0,!=2.1.0,>=1.10->transformer_lens) (2.1.5)\n",
      "Requirement already satisfied: mpmath<1.4,>=1.1.0 in /Users/gge/gg2001/transformer-circuits/.conda/lib/python3.11/site-packages (from sympy->torch!=2.0,!=2.1.0,>=1.10->transformer_lens) (1.3.0)\n",
      "Requirement already satisfied: smmap<6,>=3.0.1 in /Users/gge/gg2001/transformer-circuits/.conda/lib/python3.11/site-packages (from gitdb<5,>=4.0.1->gitpython!=3.1.29,>=1.0.0->wandb>=0.13.5->transformer_lens) (5.0.1)\n",
      "Note: you may need to restart the kernel to use updated packages.\n"
     ]
    }
   ],
   "source": [
    "%pip install transformer_lens plotly nbformat"
   ]
  },
  {
   "cell_type": "code",
   "execution_count": 2,
   "metadata": {},
   "outputs": [],
   "source": [
    "from transformer_lens import HookedTransformer\n",
    "import plotly.express as px\n",
    "import torch"
   ]
  },
  {
   "cell_type": "code",
   "execution_count": 3,
   "metadata": {},
   "outputs": [
    {
     "name": "stdout",
     "output_type": "stream",
     "text": [
      "Loaded pretrained model gpt-neo-small into HookedTransformer\n"
     ]
    }
   ],
   "source": [
    "model = HookedTransformer.from_pretrained(\"gpt-neo-small\")"
   ]
  },
  {
   "cell_type": "code",
   "execution_count": 4,
   "metadata": {},
   "outputs": [],
   "source": [
    "subsample = torch.randperm(model.cfg.d_vocab)[:5000].to(model.cfg.device)"
   ]
  },
  {
   "cell_type": "code",
   "execution_count": 5,
   "metadata": {},
   "outputs": [],
   "source": [
    "W_E = model.W_E[subsample]  # Take a random subset of 5,000 for memory reasons\n",
    "W_E_normed = W_E / W_E.norm(dim=-1, keepdim=True) # [d_vocab, d_model]\n",
    "cosine_sims = W_E_normed @ W_E_normed.T # [d_vocab, d_vocab]"
   ]
  },
  {
   "cell_type": "code",
   "execution_count": 6,
   "metadata": {},
   "outputs": [],
   "source": [
    "px.histogram(\n",
    "    cosine_sims.flatten().detach().cpu().numpy(),\n",
    "    title=\"Pairwise cosine sims of embedding\",\n",
    ")"
   ]
  }
 ],
 "metadata": {
  "kernelspec": {
   "display_name": "Python 3",
   "language": "python",
   "name": "python3"
  },
  "language_info": {
   "codemirror_mode": {
    "name": "ipython",
    "version": 3
   },
   "file_extension": ".py",
   "mimetype": "text/x-python",
   "name": "python",
   "nbconvert_exporter": "python",
   "pygments_lexer": "ipython3",
   "version": "3.11.9"
  }
 },
 "nbformat": 4,
 "nbformat_minor": 2
}
